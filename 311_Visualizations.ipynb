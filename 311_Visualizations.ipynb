{
 "cells": [
  {
   "cell_type": "code",
   "execution_count": 1,
   "id": "3ecca186",
   "metadata": {},
   "outputs": [],
   "source": [
    "import altair as alt\n",
    "from altair import datum\n",
    "import pandas as pd\n",
    "import numpy as np"
   ]
  },
  {
   "cell_type": "code",
   "execution_count": 2,
   "id": "c4356b35",
   "metadata": {},
   "outputs": [
    {
     "data": {
      "text/plain": [
       "DataTransformerRegistry.enable('default')"
      ]
     },
     "execution_count": 2,
     "metadata": {},
     "output_type": "execute_result"
    }
   ],
   "source": [
    "alt.data_transformers.enable('default', max_rows=None)"
   ]
  },
  {
   "cell_type": "code",
   "execution_count": 43,
   "id": "400e3c8e",
   "metadata": {},
   "outputs": [],
   "source": [
    "def make_gen_chart(csv_file):\n",
    "    calls = pd.read_csv(csv_file)\n",
    "    district_bool = ((calls['city_council_district'] == '2') |\n",
    "                 (calls['city_council_district'] == '3') |\n",
    "                 (calls['city_council_district'] == '4') |\n",
    "                 (calls['city_council_district'] == '6') |\n",
    "                 (calls['city_council_district'] == '7') |\n",
    "                 (calls['city_council_district'] == '8'))\n",
    "    dcalls = calls.loc[district_bool, :]\n",
    "    \n",
    "    type_bin = []\n",
    "    \n",
    "    pest_list = ['Pick up Dead Animal', 'Rodent Activity', 'Mice Infestation - Residential', 'Bed Bugs', \n",
    "                 'Pest Infestation - Residential', 'Pigeon Infestation']\n",
    "    safety_list = ['Unsatisfactory Living Conditions', 'Unsafe Dangerous Conditions', 'Poor Conditions of Property', \n",
    "                   'Squalid Living Conditions', 'Chronic Dampness/Mold', 'Carbon Monoxide']\n",
    "    utilities_list = ['Unsatisfactory Utilities - Electrical  Plumbing', 'No Utilities Residential - Gas', \n",
    "                      'No Utilities Residential - Electricity', 'No Utilities Residential - Water', 'Sewage/Septic Back-Up', \n",
    "                      'Water in Gas - High Priority']\n",
    "    #district_dict = {'1': '1: Charlestown, East Boston, North End', '2':'2: Chinatown, Downtown, South Boston, South End',\n",
    "    #                '3': '3: Dorchester', '4': '4: Mattapan, Dorchester, Roslindale, Jamaica Plain', \n",
    "    #                '5': '5: Hyde Park, Roslindale, Mattapan', '6': '6: Jamaica Plain, West Roxbury',\n",
    "    #                '7': '7: Roxbury, South End, Dorchester', '8': '8: Back Bay, Beacon Hill, Fenway, Mission Hill, West End',\n",
    "    #                '9': '9: Allston, Brighton'}\n",
    "\n",
    "    for t in dcalls['type']:\n",
    "        if t == 'Needle Pickup':\n",
    "            type_bin.append(t)\n",
    "        elif t in pest_list:\n",
    "            type_bin.append('Dead Animals and Pests')\n",
    "        elif t in safety_list:\n",
    "            type_bin.append('Safety Concerns')\n",
    "        elif t in utilities_list:\n",
    "            type_bin.append('Lack of Utilities')\n",
    "        else:\n",
    "            type_bin.append('Other')\n",
    "            \n",
    "    dcalls['type_bin'] = type_bin\n",
    "    \n",
    "    year = csv_file.split('_')[1].split('.')[0]\n",
    "    \n",
    "    #dcalls.replace({'city_council_district': district_dict}, inplace=True)\n",
    "    \n",
    "    chart = alt.Chart(dcalls).mark_bar().encode(\n",
    "            x=alt.X('type_bin:N', title='Type of Call'),\n",
    "            y=alt.Y(\n",
    "                'count()',\n",
    "                title='Number of Calls'),\n",
    "            facet=alt.Facet('city_council_district:O', columns=3, title='City Council District'),\n",
    "            color = alt.Color('type_bin:N', title='Type of Call'),\n",
    "            tooltip = 'count()'\n",
    "        ).transform_filter(\n",
    "            (datum.type_bin != 'Other')\n",
    "        ).properties(title=f'311 Calls by District in {year}')\n",
    "    \n",
    "    chart = chart.configure_title(\n",
    "            fontSize=20,\n",
    "            font='Times New Roman',\n",
    "            anchor=,\n",
    "            color='black'\n",
    "            )\n",
    "\n",
    "    return chart"
   ]
  },
  {
   "cell_type": "code",
   "execution_count": 4,
   "id": "3e2bb4ad",
   "metadata": {},
   "outputs": [],
   "source": [
    "def make_spec_chart(csv_file, district):\n",
    "    calls = pd.read_csv(csv_file)\n",
    "    district_bool = (calls['city_council_district'] == district)\n",
    "                     \n",
    "    dcalls = calls.loc[district_bool, :]\n",
    "    \n",
    "    type_bin = []\n",
    "    \n",
    "    pest_list = ['Pick up Dead Animal', 'Rodent Activity', 'Mice Infestation - Residential', 'Bed Bugs', \n",
    "                 'Pest Infestation - Residential', 'Pigeon Infestation']\n",
    "    safety_list = ['Unsatisfactory Living Conditions', 'Unsafe Dangerous Conditions', 'Poor Conditions of Property', \n",
    "                   'Squalid Living Conditions', 'Chronic Dampness/Mold', 'Carbon Monoxide']\n",
    "    utilities_list = ['Unsatisfactory Utilities - Electrical  Plumbing', 'No Utilities Residential - Gas', \n",
    "                      'No Utilities Residential - Electricity', 'No Utilities Residential - Water', 'Sewage/Septic Back-Up', \n",
    "                      'Water in Gas - High Priority']\n",
    "    trash_list = ['Requests for Street Cleaning', 'Illegal Dumping', 'Improper Storage of Trash (Barrels)', \n",
    "                 'Empty Litter Basket', 'Missed Trash/Recycling/Yard Waste/Bulk Item', 'Request for Recycling Cart',\n",
    "                 'Request for Litter Basket Installation', 'Recycling Cart Return', 'Litter Basket Maintenance', \n",
    "                 'Overflowing or Un-kept Dumpster', 'Trash on Vacant Lot']\n",
    "\n",
    "    for t in dcalls['type']:\n",
    "        if t == 'Needle Pickup':\n",
    "            type_bin.append(t)\n",
    "        elif t in pest_list:\n",
    "            type_bin.append('Dead Animals and Pests')\n",
    "        elif t in safety_list:\n",
    "            type_bin.append('Safety Concerns')\n",
    "        elif t in utilities_list:\n",
    "            type_bin.append('Lack of Utilities')\n",
    "        elif t in trash_list:\n",
    "            type_bin.append('Trash-Related')\n",
    "        else:\n",
    "            type_bin.append('Other')\n",
    "            \n",
    "    dcalls['type_bin'] = type_bin\n",
    "    \n",
    "    chart = alt.Chart(dcalls).mark_bar().encode(\n",
    "                        x=alt.X('type:N', title='Type of Call', sort='-y'),\n",
    "                        y=alt.Y('count()', title='Number of Calls'),\n",
    "                        color=alt.Color('type_bin:N', title='Type of Call',\n",
    "                                        scale=alt.Scale(\n",
    "                                        domain=['Dead Animals and Pests', 'Lack of Utilities', \n",
    "                                                'Needle Pickup', 'Safety Concerns', 'Trash-Related', 'Other'],\n",
    "                                        range=['#4c78a8', '#f58518', '#e45756', '#72b7b2', '#54a24b', 'gray'])\n",
    "                                       ), tooltip='count()')\n",
    "    \n",
    "    return chart"
   ]
  },
  {
   "cell_type": "code",
   "execution_count": 4,
   "id": "9d0dfe28",
   "metadata": {},
   "outputs": [],
   "source": [
    "csv_list = ['311_2022.csv', '311_2021.csv', '311_2020.csv', '311_2019.csv', '311_2018.csv']"
   ]
  },
  {
   "cell_type": "code",
   "execution_count": 44,
   "id": "808f07e9",
   "metadata": {},
   "outputs": [
    {
     "name": "stderr",
     "output_type": "stream",
     "text": [
      "C:\\Users\\emmet\\AppData\\Local\\Temp\\ipykernel_27616\\506253282.py:38: SettingWithCopyWarning: \n",
      "A value is trying to be set on a copy of a slice from a DataFrame.\n",
      "Try using .loc[row_indexer,col_indexer] = value instead\n",
      "\n",
      "See the caveats in the documentation: https://pandas.pydata.org/pandas-docs/stable/user_guide/indexing.html#returning-a-view-versus-a-copy\n",
      "  dcalls['type_bin'] = type_bin\n"
     ]
    },
    {
     "ename": "SchemaValidationError",
     "evalue": "Invalid specification\n\n        altair.vegalite.v4.schema.core.TitleConfig->0, validating 'enum'\n\n        'center' is not one of [None, 'start', 'middle', 'end']\n        ",
     "output_type": "error",
     "traceback": [
      "\u001b[1;31m---------------------------------------------------------------------------\u001b[0m",
      "\u001b[1;31mSchemaValidationError\u001b[0m                     Traceback (most recent call last)",
      "\u001b[1;32m~\\AppData\\Local\\Temp\\ipykernel_27616\\3582149198.py\u001b[0m in \u001b[0;36m<module>\u001b[1;34m\u001b[0m\n\u001b[1;32m----> 1\u001b[1;33m \u001b[0mmake_gen_chart\u001b[0m\u001b[1;33m(\u001b[0m\u001b[1;34m'311_2022.csv'\u001b[0m\u001b[1;33m)\u001b[0m\u001b[1;33m\u001b[0m\u001b[1;33m\u001b[0m\u001b[0m\n\u001b[0m",
      "\u001b[1;32m~\\AppData\\Local\\Temp\\ipykernel_27616\\506253282.py\u001b[0m in \u001b[0;36mmake_gen_chart\u001b[1;34m(csv_file)\u001b[0m\n\u001b[0;32m     54\u001b[0m         ).properties(title=f'311 Calls by District in {year}')\n\u001b[0;32m     55\u001b[0m \u001b[1;33m\u001b[0m\u001b[0m\n\u001b[1;32m---> 56\u001b[1;33m     chart = chart.configure_title(\n\u001b[0m\u001b[0;32m     57\u001b[0m             \u001b[0mfontSize\u001b[0m\u001b[1;33m=\u001b[0m\u001b[1;36m20\u001b[0m\u001b[1;33m,\u001b[0m\u001b[1;33m\u001b[0m\u001b[1;33m\u001b[0m\u001b[0m\n\u001b[0;32m     58\u001b[0m             \u001b[0mfont\u001b[0m\u001b[1;33m=\u001b[0m\u001b[1;34m'Times New Roman'\u001b[0m\u001b[1;33m,\u001b[0m\u001b[1;33m\u001b[0m\u001b[1;33m\u001b[0m\u001b[0m\n",
      "\u001b[1;32m~\\anaconda3\\lib\\site-packages\\altair\\vegalite\\v4\\schema\\mixins.py\u001b[0m in \u001b[0;36mconfigure_title\u001b[1;34m(self, *args, **kwargs)\u001b[0m\n\u001b[0;32m   1299\u001b[0m         \u001b[1;32mif\u001b[0m \u001b[0mcopy\u001b[0m\u001b[1;33m.\u001b[0m\u001b[0mconfig\u001b[0m \u001b[1;32mis\u001b[0m \u001b[0mUndefined\u001b[0m\u001b[1;33m:\u001b[0m\u001b[1;33m\u001b[0m\u001b[1;33m\u001b[0m\u001b[0m\n\u001b[0;32m   1300\u001b[0m             \u001b[0mcopy\u001b[0m\u001b[1;33m.\u001b[0m\u001b[0mconfig\u001b[0m \u001b[1;33m=\u001b[0m \u001b[0mcore\u001b[0m\u001b[1;33m.\u001b[0m\u001b[0mConfig\u001b[0m\u001b[1;33m(\u001b[0m\u001b[1;33m)\u001b[0m\u001b[1;33m\u001b[0m\u001b[1;33m\u001b[0m\u001b[0m\n\u001b[1;32m-> 1301\u001b[1;33m         \u001b[0mcopy\u001b[0m\u001b[1;33m.\u001b[0m\u001b[0mconfig\u001b[0m\u001b[1;33m[\u001b[0m\u001b[1;34m\"title\"\u001b[0m\u001b[1;33m]\u001b[0m \u001b[1;33m=\u001b[0m \u001b[0mcore\u001b[0m\u001b[1;33m.\u001b[0m\u001b[0mTitleConfig\u001b[0m\u001b[1;33m(\u001b[0m\u001b[1;33m*\u001b[0m\u001b[0margs\u001b[0m\u001b[1;33m,\u001b[0m \u001b[1;33m**\u001b[0m\u001b[0mkwargs\u001b[0m\u001b[1;33m)\u001b[0m\u001b[1;33m\u001b[0m\u001b[1;33m\u001b[0m\u001b[0m\n\u001b[0m\u001b[0;32m   1302\u001b[0m         \u001b[1;32mreturn\u001b[0m \u001b[0mcopy\u001b[0m\u001b[1;33m\u001b[0m\u001b[1;33m\u001b[0m\u001b[0m\n\u001b[0;32m   1303\u001b[0m \u001b[1;33m\u001b[0m\u001b[0m\n",
      "\u001b[1;32m~\\anaconda3\\lib\\site-packages\\altair\\vegalite\\v4\\schema\\core.py\u001b[0m in \u001b[0;36m__init__\u001b[1;34m(self, align, anchor, angle, aria, baseline, color, dx, dy, font, fontSize, fontStyle, fontWeight, frame, limit, lineHeight, offset, orient, subtitleColor, subtitleFont, subtitleFontSize, subtitleFontStyle, subtitleFontWeight, subtitleLineHeight, subtitlePadding, zindex, **kwds)\u001b[0m\n\u001b[0;32m  17320\u001b[0m                  \u001b[0msubtitleFontStyle\u001b[0m\u001b[1;33m=\u001b[0m\u001b[0mUndefined\u001b[0m\u001b[1;33m,\u001b[0m \u001b[0msubtitleFontWeight\u001b[0m\u001b[1;33m=\u001b[0m\u001b[0mUndefined\u001b[0m\u001b[1;33m,\u001b[0m\u001b[1;33m\u001b[0m\u001b[1;33m\u001b[0m\u001b[0m\n\u001b[0;32m  17321\u001b[0m                  subtitleLineHeight=Undefined, subtitlePadding=Undefined, zindex=Undefined, **kwds):\n\u001b[1;32m> 17322\u001b[1;33m         super(TitleConfig, self).__init__(align=align, anchor=anchor, angle=angle, aria=aria,\n\u001b[0m\u001b[0;32m  17323\u001b[0m                                           \u001b[0mbaseline\u001b[0m\u001b[1;33m=\u001b[0m\u001b[0mbaseline\u001b[0m\u001b[1;33m,\u001b[0m \u001b[0mcolor\u001b[0m\u001b[1;33m=\u001b[0m\u001b[0mcolor\u001b[0m\u001b[1;33m,\u001b[0m \u001b[0mdx\u001b[0m\u001b[1;33m=\u001b[0m\u001b[0mdx\u001b[0m\u001b[1;33m,\u001b[0m \u001b[0mdy\u001b[0m\u001b[1;33m=\u001b[0m\u001b[0mdy\u001b[0m\u001b[1;33m,\u001b[0m \u001b[0mfont\u001b[0m\u001b[1;33m=\u001b[0m\u001b[0mfont\u001b[0m\u001b[1;33m,\u001b[0m\u001b[1;33m\u001b[0m\u001b[1;33m\u001b[0m\u001b[0m\n\u001b[0;32m  17324\u001b[0m                                           \u001b[0mfontSize\u001b[0m\u001b[1;33m=\u001b[0m\u001b[0mfontSize\u001b[0m\u001b[1;33m,\u001b[0m \u001b[0mfontStyle\u001b[0m\u001b[1;33m=\u001b[0m\u001b[0mfontStyle\u001b[0m\u001b[1;33m,\u001b[0m \u001b[0mfontWeight\u001b[0m\u001b[1;33m=\u001b[0m\u001b[0mfontWeight\u001b[0m\u001b[1;33m,\u001b[0m\u001b[1;33m\u001b[0m\u001b[1;33m\u001b[0m\u001b[0m\n",
      "\u001b[1;32m~\\anaconda3\\lib\\site-packages\\altair\\utils\\schemapi.py\u001b[0m in \u001b[0;36m__init__\u001b[1;34m(self, *args, **kwds)\u001b[0m\n\u001b[0;32m    195\u001b[0m \u001b[1;33m\u001b[0m\u001b[0m\n\u001b[0;32m    196\u001b[0m         \u001b[1;32mif\u001b[0m \u001b[0mDEBUG_MODE\u001b[0m \u001b[1;32mand\u001b[0m \u001b[0mself\u001b[0m\u001b[1;33m.\u001b[0m\u001b[0m_class_is_valid_at_instantiation\u001b[0m\u001b[1;33m:\u001b[0m\u001b[1;33m\u001b[0m\u001b[1;33m\u001b[0m\u001b[0m\n\u001b[1;32m--> 197\u001b[1;33m             \u001b[0mself\u001b[0m\u001b[1;33m.\u001b[0m\u001b[0mto_dict\u001b[0m\u001b[1;33m(\u001b[0m\u001b[0mvalidate\u001b[0m\u001b[1;33m=\u001b[0m\u001b[1;32mTrue\u001b[0m\u001b[1;33m)\u001b[0m\u001b[1;33m\u001b[0m\u001b[1;33m\u001b[0m\u001b[0m\n\u001b[0m\u001b[0;32m    198\u001b[0m \u001b[1;33m\u001b[0m\u001b[0m\n\u001b[0;32m    199\u001b[0m     \u001b[1;32mdef\u001b[0m \u001b[0mcopy\u001b[0m\u001b[1;33m(\u001b[0m\u001b[0mself\u001b[0m\u001b[1;33m,\u001b[0m \u001b[0mdeep\u001b[0m\u001b[1;33m=\u001b[0m\u001b[1;32mTrue\u001b[0m\u001b[1;33m,\u001b[0m \u001b[0mignore\u001b[0m\u001b[1;33m=\u001b[0m\u001b[1;33m(\u001b[0m\u001b[1;33m)\u001b[0m\u001b[1;33m)\u001b[0m\u001b[1;33m:\u001b[0m\u001b[1;33m\u001b[0m\u001b[1;33m\u001b[0m\u001b[0m\n",
      "\u001b[1;32m~\\anaconda3\\lib\\site-packages\\altair\\utils\\schemapi.py\u001b[0m in \u001b[0;36mto_dict\u001b[1;34m(self, validate, ignore, context)\u001b[0m\n\u001b[0;32m    358\u001b[0m                 \u001b[0mself\u001b[0m\u001b[1;33m.\u001b[0m\u001b[0mvalidate\u001b[0m\u001b[1;33m(\u001b[0m\u001b[0mresult\u001b[0m\u001b[1;33m)\u001b[0m\u001b[1;33m\u001b[0m\u001b[1;33m\u001b[0m\u001b[0m\n\u001b[0;32m    359\u001b[0m             \u001b[1;32mexcept\u001b[0m \u001b[0mjsonschema\u001b[0m\u001b[1;33m.\u001b[0m\u001b[0mValidationError\u001b[0m \u001b[1;32mas\u001b[0m \u001b[0merr\u001b[0m\u001b[1;33m:\u001b[0m\u001b[1;33m\u001b[0m\u001b[1;33m\u001b[0m\u001b[0m\n\u001b[1;32m--> 360\u001b[1;33m                 \u001b[1;32mraise\u001b[0m \u001b[0mSchemaValidationError\u001b[0m\u001b[1;33m(\u001b[0m\u001b[0mself\u001b[0m\u001b[1;33m,\u001b[0m \u001b[0merr\u001b[0m\u001b[1;33m)\u001b[0m\u001b[1;33m\u001b[0m\u001b[1;33m\u001b[0m\u001b[0m\n\u001b[0m\u001b[0;32m    361\u001b[0m         \u001b[1;32mreturn\u001b[0m \u001b[0mresult\u001b[0m\u001b[1;33m\u001b[0m\u001b[1;33m\u001b[0m\u001b[0m\n\u001b[0;32m    362\u001b[0m \u001b[1;33m\u001b[0m\u001b[0m\n",
      "\u001b[1;31mSchemaValidationError\u001b[0m: Invalid specification\n\n        altair.vegalite.v4.schema.core.TitleConfig->0, validating 'enum'\n\n        'center' is not one of [None, 'start', 'middle', 'end']\n        "
     ]
    }
   ],
   "source": [
    "make_gen_chart('311_2022.csv')"
   ]
  },
  {
   "cell_type": "code",
   "execution_count": 26,
   "id": "d5e70271",
   "metadata": {},
   "outputs": [
    {
     "name": "stderr",
     "output_type": "stream",
     "text": [
      "C:\\Users\\emmet\\AppData\\Local\\Temp\\ipykernel_27616\\1923209842.py:2: DtypeWarning: Columns (14) have mixed types. Specify dtype option on import or set low_memory=False.\n",
      "  calls = pd.read_csv(csv_file)\n",
      "C:\\Users\\emmet\\AppData\\Local\\Temp\\ipykernel_27616\\1923209842.py:38: SettingWithCopyWarning: \n",
      "A value is trying to be set on a copy of a slice from a DataFrame.\n",
      "Try using .loc[row_indexer,col_indexer] = value instead\n",
      "\n",
      "See the caveats in the documentation: https://pandas.pydata.org/pandas-docs/stable/user_guide/indexing.html#returning-a-view-versus-a-copy\n",
      "  dcalls['type_bin'] = type_bin\n"
     ]
    }
   ],
   "source": [
    "chart_2021 = make_gen_chart('311_2021.csv')"
   ]
  },
  {
   "cell_type": "code",
   "execution_count": 27,
   "id": "734a93d2",
   "metadata": {},
   "outputs": [
    {
     "name": "stderr",
     "output_type": "stream",
     "text": [
      "C:\\Users\\emmet\\AppData\\Local\\Temp\\ipykernel_27616\\1923209842.py:38: SettingWithCopyWarning: \n",
      "A value is trying to be set on a copy of a slice from a DataFrame.\n",
      "Try using .loc[row_indexer,col_indexer] = value instead\n",
      "\n",
      "See the caveats in the documentation: https://pandas.pydata.org/pandas-docs/stable/user_guide/indexing.html#returning-a-view-versus-a-copy\n",
      "  dcalls['type_bin'] = type_bin\n"
     ]
    }
   ],
   "source": [
    "chart_2020 = make_gen_chart('311_2020.csv')"
   ]
  },
  {
   "cell_type": "code",
   "execution_count": 29,
   "id": "0e2e8526",
   "metadata": {},
   "outputs": [
    {
     "name": "stderr",
     "output_type": "stream",
     "text": [
      "C:\\Users\\emmet\\AppData\\Local\\Temp\\ipykernel_27616\\1923209842.py:38: SettingWithCopyWarning: \n",
      "A value is trying to be set on a copy of a slice from a DataFrame.\n",
      "Try using .loc[row_indexer,col_indexer] = value instead\n",
      "\n",
      "See the caveats in the documentation: https://pandas.pydata.org/pandas-docs/stable/user_guide/indexing.html#returning-a-view-versus-a-copy\n",
      "  dcalls['type_bin'] = type_bin\n",
      "C:\\Users\\emmet\\AppData\\Local\\Temp\\ipykernel_27616\\1923209842.py:2: DtypeWarning: Columns (14) have mixed types. Specify dtype option on import or set low_memory=False.\n",
      "  calls = pd.read_csv(csv_file)\n",
      "C:\\Users\\emmet\\AppData\\Local\\Temp\\ipykernel_27616\\1923209842.py:38: SettingWithCopyWarning: \n",
      "A value is trying to be set on a copy of a slice from a DataFrame.\n",
      "Try using .loc[row_indexer,col_indexer] = value instead\n",
      "\n",
      "See the caveats in the documentation: https://pandas.pydata.org/pandas-docs/stable/user_guide/indexing.html#returning-a-view-versus-a-copy\n",
      "  dcalls['type_bin'] = type_bin\n",
      "C:\\Users\\emmet\\AppData\\Local\\Temp\\ipykernel_27616\\1923209842.py:38: SettingWithCopyWarning: \n",
      "A value is trying to be set on a copy of a slice from a DataFrame.\n",
      "Try using .loc[row_indexer,col_indexer] = value instead\n",
      "\n",
      "See the caveats in the documentation: https://pandas.pydata.org/pandas-docs/stable/user_guide/indexing.html#returning-a-view-versus-a-copy\n",
      "  dcalls['type_bin'] = type_bin\n"
     ]
    }
   ],
   "source": [
    "chart_2022 = make_gen_chart('311_2022.csv')\n",
    "chart_2021 = make_gen_chart('311_2021.csv')\n",
    "chart_2020 = make_gen_chart('311_2020.csv')\n",
    "\n",
    "chart_2022 | chart_2021 | chart_2020"
   ]
  },
  {
   "cell_type": "code",
   "execution_count": null,
   "id": "a1911b3e",
   "metadata": {},
   "outputs": [],
   "source": []
  }
 ],
 "metadata": {
  "kernelspec": {
   "display_name": "Python 3 (ipykernel)",
   "language": "python",
   "name": "python3"
  },
  "language_info": {
   "codemirror_mode": {
    "name": "ipython",
    "version": 3
   },
   "file_extension": ".py",
   "mimetype": "text/x-python",
   "name": "python",
   "nbconvert_exporter": "python",
   "pygments_lexer": "ipython3",
   "version": "3.9.13"
  }
 },
 "nbformat": 4,
 "nbformat_minor": 5
}
